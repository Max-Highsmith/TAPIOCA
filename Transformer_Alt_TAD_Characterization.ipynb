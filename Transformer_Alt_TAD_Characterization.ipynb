{
 "cells": [
  {
   "cell_type": "code",
   "execution_count": null,
   "metadata": {},
   "outputs": [],
   "source": [
    "from Data.Drosophilla.FlyDataMod import FlyDataModule\n",
    "from Models.Transformer import PositionalEncoding, TransformerModule\n",
    "from pytorch_lightning.callbacks import EarlyStopping\n",
    "from IPython.core.debugger import set_trace\n",
    "import pytorch_lightning as pl\n",
    "import os\n",
    "label_types = [\"directionality\", \"directionality\", \"directionality\",\n",
    "               \"insulation\",\"insulation\", \"insulation\"]\n",
    "label_vals  = [10, 20, 30, 10, 20, 30]"
   ]
  },
  {
   "cell_type": "code",
   "execution_count": null,
   "metadata": {},
   "outputs": [],
   "source": [
    "for i, (label_type, label_val) in enumerate(zip(label_types, label_vals)):\n",
    "    dm = FlyDataModule(cell_line=\"S2\",\n",
    "            data_win_radius=4,\n",
    "            batch_size=1,\n",
    "            label_type=label_type,\n",
    "            label_val=label_val)\n",
    "    dm.setup()\n",
    "    early_stop_callback = EarlyStopping(\n",
    "    monitor=\"val weighted mse loss\",\n",
    "    min_delta=0.00,\n",
    "    patience=3,\n",
    "    verbose=False,\n",
    "    mode='min')\n",
    "    \n",
    "    rootdir = \"Experiments/Transformer_Other_TAD_Metrics\"\n",
    "    if not os.path.isdir(rootdir):\n",
    "        os.mkdir(rootdir)\n",
    "\n",
    "    trainer = pl.Trainer(\n",
    "        gpus=1,\n",
    "        max_epochs=200,\n",
    "        default_root_dir=rootdir,\n",
    "        callbacks=[early_stop_callback]\n",
    "    )\n",
    "    model = TransformerModule(\n",
    "        ntoken=1,\n",
    "        ninp=29,\n",
    "        nhid=2048,\n",
    "        nhead=1,\n",
    "        nlayers=5,\n",
    "        dropout=0.2,\n",
    "        optimi=\"Adam\",\n",
    "        lr=0.0001,\n",
    "        loss_type=\"mse\")\n",
    "    \n",
    "    trainer.fit(model, dm)"
   ]
  },
  {
   "cell_type": "code",
   "execution_count": null,
   "metadata": {},
   "outputs": [],
   "source": [
    "from Utils import evaluations as ev\n",
    "import glob\n",
    "for i in range(0,6):\n",
    "    dm = FlyDataModule(cell_line=\"S2\",\n",
    "            data_win_radius=4,\n",
    "            batch_size=1,\n",
    "            label_type=label_types[i],\n",
    "            label_val=label_vals[i])\n",
    "    dm.setup()\n",
    "    layer_weights = glob.glob(\"Experiments/Transformer_Other_TAD_Metrics/lightning_logs/version_\"+str(i)+\"/checkpoints/*\")[0]\n",
    "    model         = TransformerModule.load_from_checkpoint(layer_weights).to(\"cuda:0\")\n",
    "    mets          = ev.getModelMetrics(model,\n",
    "                  dm,\n",
    "                  'train')\n",
    "    ev.createPlot(model,\n",
    "                  dm,\n",
    "                 'train',\n",
    "                 \"itfigures\")\n",
    "    print(mets)"
   ]
  },
  {
   "cell_type": "code",
   "execution_count": null,
   "metadata": {},
   "outputs": [],
   "source": []
  },
  {
   "cell_type": "code",
   "execution_count": null,
   "metadata": {},
   "outputs": [],
   "source": []
  }
 ],
 "metadata": {
  "kernelspec": {
   "display_name": "Python 3",
   "language": "python",
   "name": "python3"
  },
  "language_info": {
   "codemirror_mode": {
    "name": "ipython",
    "version": 3
   },
   "file_extension": ".py",
   "mimetype": "text/x-python",
   "name": "python",
   "nbconvert_exporter": "python",
   "pygments_lexer": "ipython3",
   "version": "3.8.5"
  }
 },
 "nbformat": 4,
 "nbformat_minor": 4
}
